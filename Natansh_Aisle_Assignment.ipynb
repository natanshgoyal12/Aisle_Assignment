{
  "nbformat": 4,
  "nbformat_minor": 0,
  "metadata": {
    "colab": {
      "provenance": []
    },
    "kernelspec": {
      "name": "python3",
      "display_name": "Python 3"
    },
    "language_info": {
      "name": "python"
    }
  },
  "cells": [
    {
      "cell_type": "code",
      "execution_count": 4,
      "metadata": {
        "id": "2FVWlF7fsTIg",
        "outputId": "b59cb77e-3e7f-48c3-f43e-b566fa62821b",
        "colab": {
          "base_uri": "https://localhost:8080/"
        }
      },
      "outputs": [
        {
          "output_type": "stream",
          "name": "stdout",
          "text": [
            "Output 1:\n",
            "1 book: 12.49\n",
            "1 music CD: 16.49\n",
            "1 chocolate bar: 0.85\n",
            "Sales Taxes: 1.50\n",
            "Total: 29.83\n",
            "\n",
            "Output 2:\n",
            "1 imported box of chocolates: 10.50\n",
            "1 imported bottle of perfume: 54.65\n",
            "Sales Taxes: 7.65\n",
            "Total: 65.15\n",
            "\n",
            "Output 3:\n",
            "1 imported bottle of perfume: 32.19\n",
            "1 bottle of perfume: 20.89\n",
            "1 packet of headache pills: 9.75\n",
            "1 box of imported chocolates: 11.85\n",
            "Sales Taxes: 6.70\n",
            "Total: 74.68\n"
          ]
        }
      ],
      "source": [
        "import math\n",
        "\n",
        "def round_up_tax(tax):\n",
        "    return math.ceil(tax * 20) / 20\n",
        "\n",
        "\n",
        "def calculate_receipt(items):\n",
        "    exempt_items = [\"book\", \"chocolate\", \"chocolates\", \"headache pills\", \"pills\", \"food\", \"medical\"]\n",
        "    total_sales_tax = 0\n",
        "    total_price = 0\n",
        "    receipt = []\n",
        "\n",
        "    for item in items:\n",
        "        quantity, description, price = item\n",
        "        price = float(price)\n",
        "        basic_tax = 0 if any(exempt_item in description for exempt_item in exempt_items) else 0.1\n",
        "        import_tax = 0.05 if \"imported\" in description else 0\n",
        "\n",
        "        total_tax_rate = basic_tax + import_tax\n",
        "        sales_tax = round_up_tax(total_tax_rate * price)\n",
        "        total_sales_tax += sales_tax\n",
        "        item_total = price + sales_tax\n",
        "        total_price += item_total\n",
        "\n",
        "        receipt.append(f\"{quantity} {description}: {item_total:.2f}\")\n",
        "\n",
        "    for line in receipt:\n",
        "        print(line)\n",
        "\n",
        "    print(f\"Sales Taxes: {total_sales_tax:.2f}\")\n",
        "    print(f\"Total: {total_price:.2f}\")\n",
        "\n",
        "input1 = [(1, \"book\", 12.49), (1, \"music CD\", 14.99), (1, \"chocolate bar\", 0.85)]\n",
        "input2 = [(1, \"imported box of chocolates\", 10.00), (1, \"imported bottle of perfume\", 47.50)]\n",
        "input3 = [(1, \"imported bottle of perfume\", 27.99), (1, \"bottle of perfume\", 18.99),\n",
        "          (1, \"packet of headache pills\", 9.75), (1, \"box of imported chocolates\", 11.25)]\n",
        "\n",
        "\n",
        "print(\"Output 1:\")\n",
        "calculate_receipt(input1)\n",
        "\n",
        "print(\"\\nOutput 2:\")\n",
        "calculate_receipt(input2)\n",
        "\n",
        "print(\"\\nOutput 3:\")\n",
        "calculate_receipt(input3)\n"
      ]
    }
  ]
}